{
 "cells": [
  {
   "cell_type": "markdown",
   "metadata": {},
   "source": [
    "# Adult Census: Income Classifier\n",
    " - Theory\n",
    " - EDA \n",
    " - PCA + LogReg\n",
    " - CrossVal \n",
    " - Conclusion"
   ]
  },
  {
   "cell_type": "markdown",
   "metadata": {},
   "source": [
    "## PCA\n",
    "\n",
    "**Curse of Dimensionality:**<br>\n",
    "High Dimensions = Sparsity of Data = Reduced Statistical Accuracy = Degraded Model<br>\n",
    "\n",
    "**Sol'n PCA:**\n",
    "Reduces Dimensions while preserving *most* Variance:\n",
    "- Hyperplane Mapping (PC Creation)\n",
    "    - Maximized Squared Sum of Distances (SSd) = PC\n",
    "    - Avg(SSd) = Variation for PC = (SVD)EigenValue for PC\n",
    "- Scree Plot\n",
    "    - Determine relevant PC<sub>d</sub> satisfying variation threshold\n",
    "- Map Samples to PC<sub>d</sub>\n",
    "    - Reorient samples to PC dims \n",
    "     \n"
   ]
  },
  {
   "cell_type": "code",
   "execution_count": 4,
   "metadata": {},
   "outputs": [],
   "source": [
    "import pandas as pd, numpy as np, matplotlib.pyplot as plt, seaborn as sns\n",
    "import os "
   ]
  },
  {
   "cell_type": "code",
   "execution_count": 5,
   "metadata": {},
   "outputs": [],
   "source": [
    "df=pd.read_csv('adult.csv')"
   ]
  },
  {
   "cell_type": "code",
   "execution_count": 6,
   "metadata": {},
   "outputs": [],
   "source": [
    "# encode ? as NaN\n",
    "df[df == '?'] = np.nan"
   ]
  },
  {
   "cell_type": "code",
   "execution_count": 7,
   "metadata": {},
   "outputs": [
    {
     "data": {
      "text/html": [
       "<div>\n",
       "<style scoped>\n",
       "    .dataframe tbody tr th:only-of-type {\n",
       "        vertical-align: middle;\n",
       "    }\n",
       "\n",
       "    .dataframe tbody tr th {\n",
       "        vertical-align: top;\n",
       "    }\n",
       "\n",
       "    .dataframe thead th {\n",
       "        text-align: right;\n",
       "    }\n",
       "</style>\n",
       "<table border=\"1\" class=\"dataframe\">\n",
       "  <thead>\n",
       "    <tr style=\"text-align: right;\">\n",
       "      <th></th>\n",
       "      <th>age</th>\n",
       "      <th>workclass</th>\n",
       "      <th>fnlwgt</th>\n",
       "      <th>education</th>\n",
       "      <th>educational-num</th>\n",
       "      <th>marital-status</th>\n",
       "      <th>occupation</th>\n",
       "      <th>relationship</th>\n",
       "      <th>race</th>\n",
       "      <th>gender</th>\n",
       "      <th>capital-gain</th>\n",
       "      <th>capital-loss</th>\n",
       "      <th>hours-per-week</th>\n",
       "      <th>native-country</th>\n",
       "      <th>income</th>\n",
       "    </tr>\n",
       "  </thead>\n",
       "  <tbody>\n",
       "    <tr>\n",
       "      <th>0</th>\n",
       "      <td>25</td>\n",
       "      <td>Private</td>\n",
       "      <td>226802</td>\n",
       "      <td>11th</td>\n",
       "      <td>7</td>\n",
       "      <td>Never-married</td>\n",
       "      <td>Machine-op-inspct</td>\n",
       "      <td>Own-child</td>\n",
       "      <td>Black</td>\n",
       "      <td>Male</td>\n",
       "      <td>0</td>\n",
       "      <td>0</td>\n",
       "      <td>40</td>\n",
       "      <td>United-States</td>\n",
       "      <td>&lt;=50K</td>\n",
       "    </tr>\n",
       "    <tr>\n",
       "      <th>1</th>\n",
       "      <td>38</td>\n",
       "      <td>Private</td>\n",
       "      <td>89814</td>\n",
       "      <td>HS-grad</td>\n",
       "      <td>9</td>\n",
       "      <td>Married-civ-spouse</td>\n",
       "      <td>Farming-fishing</td>\n",
       "      <td>Husband</td>\n",
       "      <td>White</td>\n",
       "      <td>Male</td>\n",
       "      <td>0</td>\n",
       "      <td>0</td>\n",
       "      <td>50</td>\n",
       "      <td>United-States</td>\n",
       "      <td>&lt;=50K</td>\n",
       "    </tr>\n",
       "    <tr>\n",
       "      <th>2</th>\n",
       "      <td>28</td>\n",
       "      <td>Local-gov</td>\n",
       "      <td>336951</td>\n",
       "      <td>Assoc-acdm</td>\n",
       "      <td>12</td>\n",
       "      <td>Married-civ-spouse</td>\n",
       "      <td>Protective-serv</td>\n",
       "      <td>Husband</td>\n",
       "      <td>White</td>\n",
       "      <td>Male</td>\n",
       "      <td>0</td>\n",
       "      <td>0</td>\n",
       "      <td>40</td>\n",
       "      <td>United-States</td>\n",
       "      <td>&gt;50K</td>\n",
       "    </tr>\n",
       "    <tr>\n",
       "      <th>3</th>\n",
       "      <td>44</td>\n",
       "      <td>Private</td>\n",
       "      <td>160323</td>\n",
       "      <td>Some-college</td>\n",
       "      <td>10</td>\n",
       "      <td>Married-civ-spouse</td>\n",
       "      <td>Machine-op-inspct</td>\n",
       "      <td>Husband</td>\n",
       "      <td>Black</td>\n",
       "      <td>Male</td>\n",
       "      <td>7688</td>\n",
       "      <td>0</td>\n",
       "      <td>40</td>\n",
       "      <td>United-States</td>\n",
       "      <td>&gt;50K</td>\n",
       "    </tr>\n",
       "    <tr>\n",
       "      <th>4</th>\n",
       "      <td>18</td>\n",
       "      <td>NaN</td>\n",
       "      <td>103497</td>\n",
       "      <td>Some-college</td>\n",
       "      <td>10</td>\n",
       "      <td>Never-married</td>\n",
       "      <td>NaN</td>\n",
       "      <td>Own-child</td>\n",
       "      <td>White</td>\n",
       "      <td>Female</td>\n",
       "      <td>0</td>\n",
       "      <td>0</td>\n",
       "      <td>30</td>\n",
       "      <td>United-States</td>\n",
       "      <td>&lt;=50K</td>\n",
       "    </tr>\n",
       "  </tbody>\n",
       "</table>\n",
       "</div>"
      ],
      "text/plain": [
       "   age  workclass  fnlwgt     education  educational-num      marital-status  \\\n",
       "0   25    Private  226802          11th                7       Never-married   \n",
       "1   38    Private   89814       HS-grad                9  Married-civ-spouse   \n",
       "2   28  Local-gov  336951    Assoc-acdm               12  Married-civ-spouse   \n",
       "3   44    Private  160323  Some-college               10  Married-civ-spouse   \n",
       "4   18        NaN  103497  Some-college               10       Never-married   \n",
       "\n",
       "          occupation relationship   race  gender  capital-gain  capital-loss  \\\n",
       "0  Machine-op-inspct    Own-child  Black    Male             0             0   \n",
       "1    Farming-fishing      Husband  White    Male             0             0   \n",
       "2    Protective-serv      Husband  White    Male             0             0   \n",
       "3  Machine-op-inspct      Husband  Black    Male          7688             0   \n",
       "4                NaN    Own-child  White  Female             0             0   \n",
       "\n",
       "   hours-per-week native-country income  \n",
       "0              40  United-States  <=50K  \n",
       "1              50  United-States  <=50K  \n",
       "2              40  United-States   >50K  \n",
       "3              40  United-States   >50K  \n",
       "4              30  United-States  <=50K  "
      ]
     },
     "execution_count": 7,
     "metadata": {},
     "output_type": "execute_result"
    }
   ],
   "source": [
    "df.head()"
   ]
  },
  {
   "cell_type": "code",
   "execution_count": 8,
   "metadata": {},
   "outputs": [
    {
     "name": "stdout",
     "output_type": "stream",
     "text": [
      "<class 'pandas.core.frame.DataFrame'>\n",
      "RangeIndex: 48842 entries, 0 to 48841\n",
      "Data columns (total 15 columns):\n",
      " #   Column           Non-Null Count  Dtype \n",
      "---  ------           --------------  ----- \n",
      " 0   age              48842 non-null  int64 \n",
      " 1   workclass        46043 non-null  object\n",
      " 2   fnlwgt           48842 non-null  int64 \n",
      " 3   education        48842 non-null  object\n",
      " 4   educational-num  48842 non-null  int64 \n",
      " 5   marital-status   48842 non-null  object\n",
      " 6   occupation       46033 non-null  object\n",
      " 7   relationship     48842 non-null  object\n",
      " 8   race             48842 non-null  object\n",
      " 9   gender           48842 non-null  object\n",
      " 10  capital-gain     48842 non-null  int64 \n",
      " 11  capital-loss     48842 non-null  int64 \n",
      " 12  hours-per-week   48842 non-null  int64 \n",
      " 13  native-country   47985 non-null  object\n",
      " 14  income           48842 non-null  object\n",
      "dtypes: int64(6), object(9)\n",
      "memory usage: 5.6+ MB\n"
     ]
    }
   ],
   "source": [
    "df.info()"
   ]
  },
  {
   "cell_type": "code",
   "execution_count": 9,
   "metadata": {},
   "outputs": [],
   "source": [
    "# (workclass,nativecountry,occupation) all categorical \n",
    "# missing values\n",
    "#thus, check and impute:\n",
    "for col in ['workclass','native-country','occupation']:\n",
    "    df[col].fillna(df[col].mode()[0], inplace=True)"
   ]
  },
  {
   "cell_type": "code",
   "execution_count": 10,
   "metadata": {},
   "outputs": [
    {
     "data": {
      "text/plain": [
       "age                0\n",
       "workclass          0\n",
       "fnlwgt             0\n",
       "education          0\n",
       "educational-num    0\n",
       "marital-status     0\n",
       "occupation         0\n",
       "relationship       0\n",
       "race               0\n",
       "gender             0\n",
       "capital-gain       0\n",
       "capital-loss       0\n",
       "hours-per-week     0\n",
       "native-country     0\n",
       "income             0\n",
       "dtype: int64"
      ]
     },
     "execution_count": 10,
     "metadata": {},
     "output_type": "execute_result"
    }
   ],
   "source": [
    "df.isnull().sum()"
   ]
  },
  {
   "cell_type": "code",
   "execution_count": 11,
   "metadata": {},
   "outputs": [
    {
     "data": {
      "text/html": [
       "<div>\n",
       "<style scoped>\n",
       "    .dataframe tbody tr th:only-of-type {\n",
       "        vertical-align: middle;\n",
       "    }\n",
       "\n",
       "    .dataframe tbody tr th {\n",
       "        vertical-align: top;\n",
       "    }\n",
       "\n",
       "    .dataframe thead th {\n",
       "        text-align: right;\n",
       "    }\n",
       "</style>\n",
       "<table border=\"1\" class=\"dataframe\">\n",
       "  <thead>\n",
       "    <tr style=\"text-align: right;\">\n",
       "      <th></th>\n",
       "      <th>age</th>\n",
       "      <th>workclass</th>\n",
       "      <th>fnlwgt</th>\n",
       "      <th>education</th>\n",
       "      <th>educational-num</th>\n",
       "      <th>marital-status</th>\n",
       "      <th>occupation</th>\n",
       "      <th>relationship</th>\n",
       "      <th>race</th>\n",
       "      <th>gender</th>\n",
       "      <th>capital-gain</th>\n",
       "      <th>capital-loss</th>\n",
       "      <th>hours-per-week</th>\n",
       "      <th>native-country</th>\n",
       "      <th>income</th>\n",
       "    </tr>\n",
       "  </thead>\n",
       "  <tbody>\n",
       "    <tr>\n",
       "      <th>IsNull</th>\n",
       "      <td>0</td>\n",
       "      <td>0</td>\n",
       "      <td>0</td>\n",
       "      <td>0</td>\n",
       "      <td>0</td>\n",
       "      <td>0</td>\n",
       "      <td>0</td>\n",
       "      <td>0</td>\n",
       "      <td>0</td>\n",
       "      <td>0</td>\n",
       "      <td>0</td>\n",
       "      <td>0</td>\n",
       "      <td>0</td>\n",
       "      <td>0</td>\n",
       "      <td>0</td>\n",
       "    </tr>\n",
       "    <tr>\n",
       "      <th>duplicated</th>\n",
       "      <td>53</td>\n",
       "      <td>53</td>\n",
       "      <td>53</td>\n",
       "      <td>53</td>\n",
       "      <td>53</td>\n",
       "      <td>53</td>\n",
       "      <td>53</td>\n",
       "      <td>53</td>\n",
       "      <td>53</td>\n",
       "      <td>53</td>\n",
       "      <td>53</td>\n",
       "      <td>53</td>\n",
       "      <td>53</td>\n",
       "      <td>53</td>\n",
       "      <td>53</td>\n",
       "    </tr>\n",
       "    <tr>\n",
       "      <th>unique</th>\n",
       "      <td>74</td>\n",
       "      <td>8</td>\n",
       "      <td>28523</td>\n",
       "      <td>16</td>\n",
       "      <td>16</td>\n",
       "      <td>7</td>\n",
       "      <td>14</td>\n",
       "      <td>6</td>\n",
       "      <td>5</td>\n",
       "      <td>2</td>\n",
       "      <td>123</td>\n",
       "      <td>99</td>\n",
       "      <td>96</td>\n",
       "      <td>41</td>\n",
       "      <td>2</td>\n",
       "    </tr>\n",
       "  </tbody>\n",
       "</table>\n",
       "</div>"
      ],
      "text/plain": [
       "            age  workclass  fnlwgt  education  educational-num  \\\n",
       "IsNull        0          0       0          0                0   \n",
       "duplicated   53         53      53         53               53   \n",
       "unique       74          8   28523         16               16   \n",
       "\n",
       "            marital-status  occupation  relationship  race  gender  \\\n",
       "IsNull                   0           0             0     0       0   \n",
       "duplicated              53          53            53    53      53   \n",
       "unique                   7          14             6     5       2   \n",
       "\n",
       "            capital-gain  capital-loss  hours-per-week  native-country  income  \n",
       "IsNull                 0             0               0               0       0  \n",
       "duplicated            53            53              53              53      53  \n",
       "unique               123            99              96              41       2  "
      ]
     },
     "execution_count": 11,
     "metadata": {},
     "output_type": "execute_result"
    }
   ],
   "source": [
    "#null, duplicate and unique val info\n",
    "info = pd.DataFrame(df.isnull().sum(),columns=['IsNull'])\n",
    "info.insert(1,\"duplicated\",df.duplicated().sum(),True)\n",
    "info.insert(2,\"unique\",df.nunique(),True)\n",
    "info.T"
   ]
  },
  {
   "cell_type": "code",
   "execution_count": 12,
   "metadata": {},
   "outputs": [],
   "source": [
    "df.drop_duplicates(inplace=True)"
   ]
  },
  {
   "cell_type": "code",
   "execution_count": 13,
   "metadata": {},
   "outputs": [],
   "source": [
    "educ = pd.DataFrame(df['education'].unique(),columns = ['edu'])\n",
    "educ.insert(1,'edu-num',df['educational-num'].unique(),True)\n",
    "educ.sort_values(by=['edu-num'])\n",
    "df.drop(['education'],axis=1,inplace=True)"
   ]
  },
  {
   "cell_type": "markdown",
   "metadata": {},
   "source": [
    "*Drop duplicate columns (education) as they do not present new information and increase bias of model towards a specific dimension type.*"
   ]
  },
  {
   "cell_type": "code",
   "execution_count": 14,
   "metadata": {},
   "outputs": [],
   "source": [
    "#seperate target and feature vector:\n",
    "X = df.drop(['income'],axis=1)\n",
    "y = df['income']"
   ]
  },
  {
   "cell_type": "code",
   "execution_count": 15,
   "metadata": {},
   "outputs": [],
   "source": [
    "#train test split\n",
    "from sklearn.model_selection import train_test_split\n",
    "\n",
    "X_train,X_test,y_train,y_test = train_test_split(X,y,test_size=0.3,random_state=0)"
   ]
  },
  {
   "cell_type": "code",
   "execution_count": 16,
   "metadata": {},
   "outputs": [],
   "source": [
    "#Feature Engineering\n",
    "\n",
    "#encoding categorical variables...\n",
    "from sklearn import preprocessing\n",
    "cat = []\n",
    "for col in df.columns:\n",
    "    if ((df.dtypes[col] == 'object') & (col != 'income')):\n",
    "        cat.append(col)\n",
    "#...using label encoding\n",
    "le = preprocessing.LabelEncoder()\n",
    "for var in cat:\n",
    "    X_train[var] = le.fit_transform(X_train[var])\n",
    "    X_test[var] = le.transform(X_test[var])"
   ]
  },
  {
   "cell_type": "markdown",
   "metadata": {},
   "source": [
    "**STD Scaler:<br> \n",
    "SUM{(xi-mean)/std} where std = SUM{((xi-mean)^2)/numof xi)}**\n"
   ]
  },
  {
   "cell_type": "code",
   "execution_count": 17,
   "metadata": {},
   "outputs": [],
   "source": [
    "#Feature Scaling\n",
    "#using standardscaler\n",
    "from sklearn.preprocessing import StandardScaler\n",
    "sc = StandardScaler()\n",
    "X_train = pd.DataFrame(sc.fit_transform(X_train),columns=X.columns)\n",
    "X_test = pd.DataFrame(sc.transform(X_test),columns=X.columns)"
   ]
  },
  {
   "cell_type": "code",
   "execution_count": 18,
   "metadata": {},
   "outputs": [
    {
     "name": "stdout",
     "output_type": "stream",
     "text": [
      "full feature set acc: 0.8234\n"
     ]
    }
   ],
   "source": [
    "#LogReg on full feature set\n",
    "from sklearn.linear_model import LogisticRegression\n",
    "from sklearn.metrics import accuracy_score\n",
    "\n",
    "lg = LogisticRegression()\n",
    "#training split\n",
    "lg.fit(X_train,y_train)\n",
    "#testing model\n",
    "y_pred = lg.predict(X_test)\n",
    "#model acc\n",
    "acc = accuracy_score(y_test,y_pred)\n",
    "print('full feature set acc: {0:0.4f}'.format(acc))"
   ]
  },
  {
   "cell_type": "code",
   "execution_count": 19,
   "metadata": {},
   "outputs": [
    {
     "data": {
      "text/plain": [
       "([<matplotlib.patches.Wedge at 0x2a4cb3ab890>,\n",
       "  <matplotlib.patches.Wedge at 0x2a4cb40db10>,\n",
       "  <matplotlib.patches.Wedge at 0x2a4cb40fa50>,\n",
       "  <matplotlib.patches.Wedge at 0x2a4cb419750>,\n",
       "  <matplotlib.patches.Wedge at 0x2a4cb41b490>,\n",
       "  <matplotlib.patches.Wedge at 0x2a4cb421490>,\n",
       "  <matplotlib.patches.Wedge at 0x2a4cb423250>,\n",
       "  <matplotlib.patches.Wedge at 0x2a4cb42d090>,\n",
       "  <matplotlib.patches.Wedge at 0x2a4cb41b590>,\n",
       "  <matplotlib.patches.Wedge at 0x2a4cb43ca90>,\n",
       "  <matplotlib.patches.Wedge at 0x2a4cb43e710>,\n",
       "  <matplotlib.patches.Wedge at 0x2a4e7b5c490>,\n",
       "  <matplotlib.patches.Wedge at 0x2a4e7b5e190>],\n",
       " [Text(0.967097926867442, 0.5241389127404068, 'pc1'),\n",
       "  Text(0.30950753967452627, 1.0555591328223264, 'pc2'),\n",
       "  Text(-0.3001640986223377, 1.0582539930934538, 'pc3'),\n",
       "  Text(-0.7971113491495634, 0.7580326490705812, 'pc4'),\n",
       "  Text(-1.0671241370575388, 0.26691960607869064, 'pc5'),\n",
       "  Text(-1.0657640084482547, -0.27229961126727414, 'pc6'),\n",
       "  Text(-0.8191137051646857, -0.7342021097840706, 'pc7'),\n",
       "  Text(-0.40589664270093934, -1.022373667229407, 'pc8'),\n",
       "  Text(0.06792044676625461, -1.0979010943209195, 'pc9'),\n",
       "  Text(0.5069340868394103, -0.9762263219153094, 'pc10'),\n",
       "  Text(0.8386175121295544, -0.7118431486989512, 'pc11'),\n",
       "  Text(1.0321658053865652, -0.3803074416714765, 'pc12'),\n",
       "  Text(1.0952207880230538, -0.10242765975146213, 'pc13')],\n",
       " [Text(0.5275079601095137, 0.28589395240385823, '15.8%'),\n",
       "  Text(0.1688222943679234, 0.5757595269939961, '9.3%'),\n",
       "  Text(-0.16372587197582056, 0.5772294507782475, '8.6%'),\n",
       "  Text(-0.43478800862703454, 0.4134723540384988, '8.4%'),\n",
       "  Text(-0.5820677111222938, 0.14559251240655852, '8.0%'),\n",
       "  Text(-0.581325822789957, -0.14852706069124044, '7.8%'),\n",
       "  Text(-0.4467892937261922, -0.4004738780640385, '7.5%'),\n",
       "  Text(-0.22139816874596688, -0.5576583639433128, '7.2%'),\n",
       "  Text(0.037047516417957053, -0.5988551423568651, '6.8%'),\n",
       "  Text(0.2765095019124056, -0.5324870846810779, '6.5%'),\n",
       "  Text(0.4574277338888478, -0.38827808110851875, '5.9%'),\n",
       "  Text(0.5629995302108537, -0.20744042272989624, '5.3%'),\n",
       "  Text(0.5973931571034838, -0.05586963259170661, '3.0%')])"
      ]
     },
     "execution_count": 19,
     "metadata": {},
     "output_type": "execute_result"
    },
    {
     "data": {
      "image/png": "[encoded data removed]",
      "text/plain": [
       "<Figure size 640x480 with 1 Axes>"
      ]
     },
     "metadata": {},
     "output_type": "display_data"
    }
   ],
   "source": [
    "#using PCA to improve acc\n",
    "from sklearn.decomposition import PCA\n",
    "import matplotlib.pyplot as plt\n",
    "pca = PCA()\n",
    "#apply PCA to train split\n",
    "X_train = pca.fit_transform(X_train)\n",
    "\n",
    "l1 = (pca.explained_variance_ratio_).tolist()\n",
    "lper = [x*100 for x in l1]\n",
    "\n",
    "#pie of pc variance\n",
    "labels = []\n",
    "for i in range(0,len(lper)):\n",
    "    labels.append('pc{}'.format(i+1))\n",
    "plt.pie(lper,labels=labels,autopct='%1.1f%%')"
   ]
  },
  {
   "cell_type": "markdown",
   "metadata": {},
   "source": [
    "*Assume preservation of 90% variance in samples with minimum num of dims:*\n"
   ]
  },
  {
   "cell_type": "code",
   "execution_count": 20,
   "metadata": {},
   "outputs": [
    {
     "name": "stderr",
     "output_type": "stream",
     "text": [
      "C:\\Users\\kandp\\AppData\\Local\\Temp\\ipykernel_9032\\3547980381.py:9: MatplotlibDeprecationWarning: Passing the emit parameter of set_xlim() positionally is deprecated since Matplotlib 3.6; the parameter will become keyword-only two minor releases later.\n",
      "  plt.xlim(0,13,1)\n"
     ]
    },
    {
     "data": {
      "text/plain": [
       "(0.0, 13.0)"
      ]
     },
     "execution_count": 20,
     "metadata": {},
     "output_type": "execute_result"
    },
    {
     "data": {
      "image/png": "[encoded data removed]",
      "text/plain": [
       "<Figure size 640x480 with 1 Axes>"
      ]
     },
     "metadata": {},
     "output_type": "display_data"
    }
   ],
   "source": [
    "pca = PCA()\n",
    "pca.fit(X_train)\n",
    "#graph elbow curve to show relevant components\n",
    "plt.plot(np.cumsum(pca.explained_variance_ratio_))\n",
    "plt.xlabel('pc comps')\n",
    "plt.yticks(np.arange(0, 1.1, 0.05))\n",
    "plt.xticks(np.arange(0, 13, 1))\n",
    "plt.ylabel('variance')\n",
    "plt.xlim(0,13,1)"
   ]
  },
  {
   "cell_type": "markdown",
   "metadata": {},
   "source": [
    "*slight elbow at ~95% of variance: explained by P1-11*<br>\n",
    "*thus: can drop 1 dim*"
   ]
  },
  {
   "cell_type": "code",
   "execution_count": 41,
   "metadata": {},
   "outputs": [
    {
     "name": "stdout",
     "output_type": "stream",
     "text": [
      "full feature set acc: 0.8233\n",
      "              precision    recall  f1-score   support\n",
      "\n",
      "       <=50K       0.84      0.94      0.89     11083\n",
      "        >50K       0.72      0.45      0.55      3554\n",
      "\n",
      "    accuracy                           0.82     14637\n",
      "   macro avg       0.78      0.70      0.72     14637\n",
      "weighted avg       0.81      0.82      0.81     14637\n",
      "\n"
     ]
    }
   ],
   "source": [
    "#thus, dropping 1 feature from feature vector\n",
    "X = df.drop(df.columns[[12,13]],axis=1)\n",
    "y = df[df.columns[13]]\n",
    "#TTsplit\n",
    "X_train,X_test,y_train,y_test = train_test_split(X,y,test_size=0.3,random_state=0)\n",
    "\n",
    "#obj col for le\n",
    "cat = []\n",
    "for col in X.columns:\n",
    "    if ((X.dtypes[col] == 'object') & (col != 'income')):\n",
    "        cat.append(col)\n",
    "#label encoding\n",
    "le = preprocessing.LabelEncoder()\n",
    "for var in cat:\n",
    "    X_train[var] = le.fit_transform(X_train[var])\n",
    "    X_test[var] = le.transform(X_test[var])\n",
    "\n",
    "#scaling\n",
    "sc = StandardScaler()\n",
    "X_train = pd.DataFrame(sc.fit_transform(X_train),columns=X.columns)\n",
    "X_test = pd.DataFrame(sc.transform(X_test),columns=X.columns)\n",
    "\n",
    "#logreg model\n",
    "lg = LogisticRegression()\n",
    "#training split\n",
    "lg.fit(X_train,y_train)\n",
    "#testing model\n",
    "y_pred = lg.predict(X_test)\n",
    "#model acc\n",
    "acc = accuracy_score(y_test,y_pred)\n",
    "print('full feature set acc: {0:0.4f}'.format(acc))\n",
    "\n",
    "from sklearn.metrics import classification_report\n",
    "print(classification_report(y_test,y_pred))"
   ]
  },
  {
   "cell_type": "markdown",
   "metadata": {},
   "source": [
    "### PCA/LogReg Conclusion\n",
    "Thus, we have created a logreg model of 82.34% accuracy to predict a classified output which determines whether an individual (sample) in the dataset earns (less than/equal to) or (greater than) 50,000usd. \n",
    "\n",
    "PCA does not improve accuracy of model (0.8234 vs 0.8233)\n",
    "- the distribution of variance across PC components is high: thus no clear improvement by dropping single dimension post PCA\n",
    "- no definitive elbow inflection in cumulative variation plot"
   ]
  },
  {
   "cell_type": "markdown",
   "metadata": {},
   "source": [
    "**Using Cross Validaton:**"
   ]
  },
  {
   "cell_type": "code",
   "execution_count": 43,
   "metadata": {},
   "outputs": [
    {
     "name": "stdout",
     "output_type": "stream",
     "text": [
      "LR:0.826628(0.004913)\n",
      "KNN:0.833041(0.005578)\n",
      "TR:0.814769(0.004311)\n",
      "NB:0.803555(0.007342)\n",
      "RF:0.859422(0.006603)\n"
     ]
    }
   ],
   "source": [
    "from sklearn.neighbors import KNeighborsClassifier\n",
    "from sklearn.tree import DecisionTreeClassifier\n",
    "from sklearn.naive_bayes import GaussianNB\n",
    "from sklearn.ensemble import RandomForestClassifier\n",
    "from sklearn.model_selection import cross_val_score, KFold\n",
    "X = df.drop(df.columns[[13]],axis=1)\n",
    "y = df[df.columns[13]]\n",
    "#TTsplit\n",
    "seed=57\n",
    "X_train,X_test,y_train,y_test = train_test_split(X,y,test_size=0.3,random_state=seed)\n",
    "\n",
    "#obj col for le\n",
    "cat = []\n",
    "for col in X.columns:\n",
    "    if ((X.dtypes[col] == 'object') & (col != 'income')):\n",
    "        cat.append(col)\n",
    "#label encoding\n",
    "le = preprocessing.LabelEncoder()\n",
    "for var in cat:\n",
    "    X_train[var] = le.fit_transform(X_train[var])\n",
    "    X_test[var] = le.transform(X_test[var])\n",
    "\n",
    "#scaling\n",
    "sc = StandardScaler()\n",
    "X_train = pd.DataFrame(sc.fit_transform(X_train),columns=X.columns)\n",
    "X_test = pd.DataFrame(sc.transform(X_test),columns=X.columns)\n",
    "\n",
    "#CV\n",
    "models = []\n",
    "models.append(('LR',LogisticRegression()))\n",
    "models.append(('KNN',KNeighborsClassifier()))\n",
    "models.append(('TR',DecisionTreeClassifier()))\n",
    "models.append(('NB',GaussianNB()))\n",
    "models.append(('RF',RandomForestClassifier(n_estimators=100,max_features=3)))\n",
    "res = []\n",
    "names = []\n",
    "for name, model in models:\n",
    "    kf = KFold(n_splits=10,shuffle=True,random_state=seed)\n",
    "    cvres = cross_val_score(model,X_train,y_train,cv=kf,scoring='accuracy')\n",
    "    res.append(cvres)\n",
    "    names.append(name)\n",
    "    op = \"%s:%f(%f)\"%(name,cvres.mean(),cvres.std())\n",
    "    print(op)"
   ]
  }
 ],
 "metadata": {
  "kernelspec": {
   "display_name": "Python 3",
   "language": "python",
   "name": "python3"
  },
  "language_info": {
   "codemirror_mode": {
    "name": "ipython",
    "version": 3
   },
   "file_extension": ".py",
   "mimetype": "text/x-python",
   "name": "python",
   "nbconvert_exporter": "python",
   "pygments_lexer": "ipython3",
   "version": "3.11.2"
  }
 },
 "nbformat": 4,
 "nbformat_minor": 2
}
